{
 "cells": [
  {
   "cell_type": "code",
   "execution_count": 1,
   "metadata": {},
   "outputs": [
    {
     "output_type": "stream",
     "name": "stderr",
     "text": [
      "[nltk_data] Downloading package stopwords to\n[nltk_data]     C:\\Users\\Mateo\\AppData\\Roaming\\nltk_data...\n[nltk_data]   Package stopwords is already up-to-date!\n"
     ]
    }
   ],
   "source": [
    "import nltk\n",
    "nltk.download('stopwords')\n",
    "from nltk.corpus import stopwords\n",
    "#este se ejecuta de tercero"
   ]
  },
  {
   "cell_type": "code",
   "execution_count": 2,
   "metadata": {},
   "outputs": [],
   "source": [
    "import pandas as pd"
   ]
  },
  {
   "cell_type": "code",
   "execution_count": 3,
   "metadata": {},
   "outputs": [
    {
     "output_type": "stream",
     "name": "stdout",
     "text": [
      "                                             0  \\\n0       CA-097-CondiciondeExcepcion-Negritudes   \n1                                      CAR-027   \n2                                      CAR-082   \n3                                      CAR-103   \n4                                      CAR-115   \n5                                       CS-022   \n6                                       CS-023   \n7                                       CS-053   \n8                          Estatuto Elecciones   \n9                                      RCA-004   \n10                                     RCA-006   \n11                                     RCA-017   \n12                                  RCA-029(1)   \n13                                     RCA-029   \n14                                    RCA-055-   \n15                                     RCA-074   \n16                                     RCA-093   \n17                                     RCA-106   \n18                                     RCA-111   \n19                                  RCA-134(2)   \n20                                  RCA-134(3)   \n21                                     RCA-159   \n22                                     RCA-162   \n23                                     RCA_003   \n24                                RCA_104_1998   \n25                                     RCA_134   \n26                                   RCS - 024   \n27              Res CA 047-Ingenieria Sistemas   \n28  Res CA 085-Calendario Pregrado Cali 2-2020   \n29           Res CS 020 Evaluación cualitativa   \n30             Res CS 040 Condonación-Ajustada   \n31                             Res CS-004-2000   \n32                             Res CS-009-2001   \n33                                     Res-003   \n34                                     Res-004   \n35                                     Res-023   \n36                                     Res-056   \n37                              Res124-CA-2019   \n38                                   Resol-008   \n39                                   Resol-031   \n40                                   Resol-088   \n41                              resolucion 136   \n42                         Resolucion-042-2018   \n43                        Resolucion093CA-2018   \n44         Resolución No. 016 Bono Estudiantil   \n45                         Resolución No. 045    \n\n                                                    1  \n0    Universidad del Valle UNIVERSIDAD DEL VALLE C...  \n1    Universidad del Valle UNIVERSIDAD DEL VALLE C...  \n2    1 Universidad UNIVERSIDAD DEL VALLE CONSEJO A...  \n3    Universidad del Valle UNIVERSIDAD DEL VALLE C...  \n4    Universidad del Valle   UNIVERSIDAD DEL VALLE...  \n5    Universidad del Valle UNIVERSIDAD DEL VALLE C...  \n6    Universidad del Valle UNIVERSIDAD DEL VALLE C...  \n7    Universidad del Valle   UNIVERSIDAD DEL VALLE...  \n8    UNIVERSIDAD DEL VALLE CONSEJO SUPERIOR REGLAM...  \n9    Universidad del Valle UNIVERSIDAD DEL VALLE C...  \n10   Universidad del Valle UNIVERSIDAD DEL VALLE C...  \n11   bad Universidad del Valle   UNIVERSIDAD DEL V...  \n12   Universidad del Valle     UNIVERSIDAD DEL VAL...  \n13   Universidad del Valle Dl UNIVERSIDAD DEL VALL...  \n14   bef Universidad del Valle   UNIVERSIDAD DEL V...  \n15   Universidad del Valle Dl UNIVERSIDAD DEL VALL...  \n16   Universidad del Valle   UNIVERSIDAD DEL VALLE...  \n17   Universidad del Valle UNIVERSIDAD DEL VALLE C...  \n18   Universidad del Valle ee UNIVERSIDAD DEL VALL...  \n19   Universidad del Valle UNIVERSIDAD DEL VALLE C...  \n20   UNIVERSIDAD DEL VALLE CONSEJO ACADEMICO RESOL...  \n21   Universidad del Valle UNIVERSIDAD DEL VALLE C...  \n22   UNIVERSIDAD DEL VALLE CONSEJO ACADEMICO RESOL...  \n23   Universidad del Valle   UNIVERSIDAD DEL VALLE...  \n24   Devers niversig jad mS UNIVERSIDAD DEL VALLE ...  \n25   Universidad del Valle 1     UNIVERSIDAD DEL V...  \n26   Universidad del Valle   UNIVERSIDAD DEL VALLE...  \n27   Universidad del Valle   UNIVERSIDAD DEL VALLE...  \n28   Universidad del Valle   UNIVERSIDAD DEL VALLE...  \n29   Universidad del Valle UNIVERSIDAD DEL VALLE C...  \n30   Universidad del Valle UNIVERSIDAD DEL VALLE C...  \n31   d Universidad del Valle w       UNIVERSIDAD D...  \n32   \\ Universidad del Valle ooaoaoooaoaoooooooaou...  \n33   bad Universidad del Valle   UNIVERSIDAD DEL V...  \n34   Universidad del Valle UNIVERSIDAD DEL VALLE C...  \n35   Universidad del Valle UNIVERSIDAD DEL VALLE C...  \n36   Universidad del Valle OO TTTOTTTOTOTOTOTOTOTO...  \n37   Universidad del Valle UNIVERSIDAD DEL VALLE C...  \n38   bad Universidad del Valle   UNIVERSIDAD DEL V...  \n39   Universidad del Valle   UNIVERSIDAD DEL VALLE...  \n40   Universidad del Valle UNIVERSIDAD DEL VALLE C...  \n41   Universidad del Valle   UNIVERSIDAD DEL VALLE...  \n42   Universidad del Valle   UNIVERSIDAD DEL VALLE...  \n43   Universidad del Valle     UNIVERSIDAD DEL VAL...  \n44   Universidad del Valle   UNIVERSIDAD DEL VALLE...  \n45   Universidad del Valle   UNIVERSIDAD DEL VALLE...  \n"
     ]
    }
   ],
   "source": [
    "data = pd.read_csv('prueba.txt', sep=\",\", header=None)\n",
    "print(data)"
   ]
  },
  {
   "cell_type": "code",
   "execution_count": 4,
   "metadata": {},
   "outputs": [],
   "source": [
    "import re"
   ]
  },
  {
   "cell_type": "code",
   "execution_count": 5,
   "metadata": {},
   "outputs": [],
   "source": [
    "REPLACE_BY_SPACE_RE = re.compile('[/(){}\\[\\]\\|@,;]')\n",
    "BAD_SYMBOLS_RE = re.compile('[^0-9a-z #+_]')\n",
    "STOPWORDS = set(stopwords.words('spanish'))\n",
    "\n",
    "def normalizar_texto(texto):\n",
    "    \"\"\"\n",
    "        texto : string \n",
    "        \n",
    "        retorna: texto modificado\n",
    "    \"\"\"\n",
    "    texto = texto.lower()\n",
    "    #texto = re.sub(REPLACE_BY_SPACE_RE,\" \",texto)\n",
    "    #texto = re.sub(BAD_SYMBOLS_RE,\"\",texto)\n",
    "    aux=\"\"\n",
    "    words = texto.split()\n",
    "    for r in words:\n",
    "      if not r in STOPWORDS:\n",
    "        aux+=r+\" \"\n",
    "    text = aux.rstrip()\n",
    "    return text"
   ]
  },
  {
   "cell_type": "code",
   "execution_count": 6,
   "metadata": {},
   "outputs": [
    {
     "output_type": "execute_result",
     "data": {
      "text/plain": [
       "                                        0  \\\n",
       "0  CA-097-CondiciondeExcepcion-Negritudes   \n",
       "1                                 CAR-027   \n",
       "2                                 CAR-082   \n",
       "3                                 CAR-103   \n",
       "4                                 CAR-115   \n",
       "\n",
       "                                                   1  \n",
       "0   Universidad del Valle UNIVERSIDAD DEL VALLE C...  \n",
       "1   Universidad del Valle UNIVERSIDAD DEL VALLE C...  \n",
       "2   1 Universidad UNIVERSIDAD DEL VALLE CONSEJO A...  \n",
       "3   Universidad del Valle UNIVERSIDAD DEL VALLE C...  \n",
       "4   Universidad del Valle   UNIVERSIDAD DEL VALLE...  "
      ],
      "text/html": "<div>\n<style scoped>\n    .dataframe tbody tr th:only-of-type {\n        vertical-align: middle;\n    }\n\n    .dataframe tbody tr th {\n        vertical-align: top;\n    }\n\n    .dataframe thead th {\n        text-align: right;\n    }\n</style>\n<table border=\"1\" class=\"dataframe\">\n  <thead>\n    <tr style=\"text-align: right;\">\n      <th></th>\n      <th>0</th>\n      <th>1</th>\n    </tr>\n  </thead>\n  <tbody>\n    <tr>\n      <th>0</th>\n      <td>CA-097-CondiciondeExcepcion-Negritudes</td>\n      <td>Universidad del Valle UNIVERSIDAD DEL VALLE C...</td>\n    </tr>\n    <tr>\n      <th>1</th>\n      <td>CAR-027</td>\n      <td>Universidad del Valle UNIVERSIDAD DEL VALLE C...</td>\n    </tr>\n    <tr>\n      <th>2</th>\n      <td>CAR-082</td>\n      <td>1 Universidad UNIVERSIDAD DEL VALLE CONSEJO A...</td>\n    </tr>\n    <tr>\n      <th>3</th>\n      <td>CAR-103</td>\n      <td>Universidad del Valle UNIVERSIDAD DEL VALLE C...</td>\n    </tr>\n    <tr>\n      <th>4</th>\n      <td>CAR-115</td>\n      <td>Universidad del Valle   UNIVERSIDAD DEL VALLE...</td>\n    </tr>\n  </tbody>\n</table>\n</div>"
     },
     "metadata": {},
     "execution_count": 6
    }
   ],
   "source": [
    "data.head()"
   ]
  },
  {
   "cell_type": "code",
   "execution_count": 7,
   "metadata": {},
   "outputs": [],
   "source": [
    "texto = data[1].values"
   ]
  },
  {
   "cell_type": "code",
   "execution_count": 8,
   "metadata": {},
   "outputs": [],
   "source": [
    "texto = [normalizar_texto(x) for x in texto]"
   ]
  },
  {
   "cell_type": "code",
   "execution_count": 9,
   "metadata": {},
   "outputs": [
    {
     "output_type": "execute_result",
     "data": {
      "text/plain": [
       "['universidad valle universidad valle consejo academico resolucion 097 octubre 16 2003 “por crea condiciodn excepci6n comunidades afrocolombianas ingreso programas academicos pregrado” consejo academico universidad valle uso atribuciones considerando: constitucion politica colombia establece: “el reconoce protege diversidad etnica cultural nacion colombiana” (articulo 7) “todas personas nacen libres iguales ley recibiran misma proteccien trato autoridades gozaran mismos derechos libertades oportunidades ninguna discriminacien razones sexo raza origen nacional familiar lengua religien opinion politica filosdfica promovera condiciones igualdad real efectiva adoptara medidas favor grupos discriminados marginados\" (articulo 13)universidad valle resolucion 097-03 ca 2 “los integrantes grupos etnicos tendran derecho formacion respete desarrolle identidad cultural” (articulo 68) “el deber promover fomentar acceso cultura colombianos igualdad oportunidades medio educacien permanente ensefanza cientifica tecnica artistica profesional todas etapas proceso creacion identidad nacional cultura diversas manifestaciones fundamento nacionalidad reconoce igualdad dignidad todas conviven pais” (articulo 70) 2 ley 70 27 agosto 1993: reconoce existencia “ comunidad negra: conjunto familias ascendencia afrocolombiana poseen cultura propia comparten historia propias tradiciones costumbres dentro relacien campo —- poblado revelan conservan conciencia identidad distinguen grupos etnicos” (articulo 2 — numeral 5) establece principios fundamenta: “1 reconocimiento proteccion diversidad etnica cultural derecho igualdad todas culturas conforman nacionalidad colombiana” (articulo 3) “el colombiano reconoce garantiza comunidades negras derecho proceso educativo acorde necesidades aspiraciones etnoculturales” (articulo 32) resuelve:universidad valle resolucion 097-03 ca 3 articulo 1° crear partir admisien periodo academico enero — mayo 2004 condicien excepcien denominada comunidades afrocolombianas ingreso programas academicos pregrado ofrecen todas sedes universidad articulo 2° competir condicien excepcidn aspirantes deberan realizar proceso _ inscripcien correspondiente fechas establecidas universidad adjuntando certificacidn correspondiente acredite miembro activo comunidades afrocolombianas enumeradas articulo 3° debidamente firmada por: 1 representante legal organizaciones afrocolombianas existentes lugar origen adscritas ministerio interior 2 secretario educacien municipal 0 rector colegio obtuvo titulo bachiller 6 representante consejos comunitarios articulo 3° podran acceder condici6n excepcidn aquellos aspirantes pertenezcan especificamente _ comunidades negras descritas articulo 2° articulo 45 ley 70 27 agosto 1993 enmarcan siguientes grupos: 1 cuenca pacifico 2 rios cuenca pacifico: vertiente pacifico b cuencas rios atrato acandi tolo vertiente caribe 3 zonas rurales riberenasuniversidad valle resolucion 097-03 ca 4 4 raizales san andres providencia santa catalina 5: demas regiones asentamientos afrodescendientes resto pais articulo 4° condiciden excepcion asigna 4% cupo establecido cada programa academico cupos adicionales cupo fijado programa academico articulo 5° inscribirse condicidn excepcidn aspirantes deben acreditar puntaje minimo programa academico desea inscribirse fijado requisito inscripcion respectivo periodo academico paragrafo: estudiantes inscriban competir cupos reservados condicien excepcidn presentaran ninguna prueba adicional caracter academico areas evaluadas examen deben cumplir demas requisitos establecidos universidad cuanto puntajes minimos inscripcien especialmente relacionado habilidades especificas exigidas programas academicos acojan condicien excepcien inscriban programas academicos exigen requisito admisien presentacien pruebas adicionales aptitud deben presentarlas pues pruebas caracter obligatoriouniversidad valle resolucion 097-03 ca 5 articulo 6° programa academico se_ inscribe numero mayor aspirantes numero cupos reservado condicien excepcien seran admitidos primeros inscritos encuentren listado posiciones debajo linea corte inicial estricto orden descendente posiciedn inscriban resultados examen partir afio 2000 paragrafo: programas reciben inscripciones resultados examen anteriores afio 2000 cupos asignaran primeros inscritos encuentren listado descendente puntajes articulo 7°: aspirante admitido condicien excepcion ningtin caso podra volver inscribirse competir misma condicien articulo 8° estudiante ingrese universidad condicien excepcien debera preferiblemente desarrollar trabajo grado tematicas proyectos sirvan desarrollo comunidad origen region caracteristicas similares comuniquese cumplaseuniversidad valle resolucion 097-03 ca 6 dada santiago cali salon sesiones consejo academico 16 dias mes octubre 2003 presidente ivan enrique ramos calderon rector oscar lopez pulecio secretario general']"
      ]
     },
     "metadata": {},
     "execution_count": 9
    }
   ],
   "source": [
    "texto[:1]"
   ]
  },
  {
   "cell_type": "code",
   "execution_count": null,
   "metadata": {},
   "outputs": [],
   "source": []
  },
  {
   "cell_type": "code",
   "execution_count": 10,
   "metadata": {},
   "outputs": [],
   "source": [
    "from pandas import DataFrame\n",
    "\n",
    "df = DataFrame(texto,columns=['texto'])"
   ]
  },
  {
   "cell_type": "code",
   "execution_count": 11,
   "metadata": {},
   "outputs": [],
   "source": [
    "df.to_csv('./normal.csv')"
   ]
  },
  {
   "cell_type": "code",
   "execution_count": null,
   "metadata": {},
   "outputs": [],
   "source": []
  }
 ],
 "metadata": {
  "kernelspec": {
   "display_name": "Python 3",
   "language": "python",
   "name": "python3"
  },
  "language_info": {
   "codemirror_mode": {
    "name": "ipython",
    "version": 3
   },
   "file_extension": ".py",
   "mimetype": "text/x-python",
   "name": "python",
   "nbconvert_exporter": "python",
   "pygments_lexer": "ipython3",
   "version": "3.7.4-final"
  }
 },
 "nbformat": 4,
 "nbformat_minor": 4
}