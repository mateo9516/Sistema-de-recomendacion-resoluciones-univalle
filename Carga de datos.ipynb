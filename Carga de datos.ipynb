{
 "cells": [
  {
   "cell_type": "code",
   "execution_count": 2,
   "metadata": {},
   "outputs": [],
   "source": [
    "import pandas as pd"
   ]
  },
  {
   "cell_type": "code",
   "execution_count": 9,
   "metadata": {},
   "outputs": [
    {
     "name": "stdout",
     "output_type": "stream",
     "text": [
      "                                                  0  \\\n",
      "0                    Res CA 047-Ingenieria Sistemas   \n",
      "1        Res CA 085-Calendario Pregrado Cali 2-2020   \n",
      "2                                    Res124-CA-2019   \n",
      "3                                    resolucion 136   \n",
      "4  Resolucion No. 128-2020 actividades bonificables   \n",
      "5                               Resolucion-042-2018   \n",
      "6                        Resolucion093CA-2018(1)(1)   \n",
      "7                           Resolucion093CA-2018(1)   \n",
      "8                               Resolución No. 045    \n",
      "\n",
      "                                                   1  \n",
      "0   Universidad del Valle   UNIVERSIDAD DEL VALLE...  \n",
      "1   Universidad del Valle   UNIVERSIDAD DEL VALLE...  \n",
      "2   Universidad del Valle UNIVERSIDAD DEL VALLE C...  \n",
      "3   Universidad del Valle   UNIVERSIDAD DEL VALLE...  \n",
      "4   Universidad del Valle afios 1945-2020 FACULTA...  \n",
      "5   Universidad del Valle   UNIVERSIDAD DEL VALLE...  \n",
      "6   Universidad del Valle     UNIVERSIDAD DEL VAL...  \n",
      "7   Universidad del Valle     UNIVERSIDAD DEL VAL...  \n",
      "8   Universidad del Valle   UNIVERSIDAD DEL VALLE...  \n"
     ]
    }
   ],
   "source": [
    "data = pd.read_csv('prueba.txt', sep=\",\", header=None)\n",
    "print(data)"
   ]
  },
  {
   "cell_type": "code",
   "execution_count": null,
   "metadata": {},
   "outputs": [],
   "source": []
  },
  {
   "cell_type": "code",
   "execution_count": null,
   "metadata": {},
   "outputs": [],
   "source": []
  }
 ],
 "metadata": {
  "kernelspec": {
   "display_name": "Python 3",
   "language": "python",
   "name": "python3"
  },
  "language_info": {
   "codemirror_mode": {
    "name": "ipython",
    "version": 3
   },
   "file_extension": ".py",
   "mimetype": "text/x-python",
   "name": "python",
   "nbconvert_exporter": "python",
   "pygments_lexer": "ipython3",
   "version": "3.7.4"
  }
 },
 "nbformat": 4,
 "nbformat_minor": 4
}
