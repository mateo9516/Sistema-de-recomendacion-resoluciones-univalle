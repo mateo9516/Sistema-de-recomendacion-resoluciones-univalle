{
 "cells": [
  {
   "cell_type": "code",
   "execution_count": 5,
   "metadata": {},
   "outputs": [
    {
     "name": "stderr",
     "output_type": "stream",
     "text": [
      "[nltk_data] Downloading package stopwords to\n",
      "[nltk_data]     C:\\Users\\Mateo\\AppData\\Roaming\\nltk_data...\n",
      "[nltk_data]   Unzipping corpora\\stopwords.zip.\n"
     ]
    }
   ],
   "source": [
    "import nltk\n",
    "nltk.download('stopwords')\n",
    "from nltk.corpus import stopwords"
   ]
  },
  {
   "cell_type": "code",
   "execution_count": 6,
   "metadata": {},
   "outputs": [],
   "source": [
    "import pandas as pd"
   ]
  },
  {
   "cell_type": "code",
   "execution_count": 7,
   "metadata": {},
   "outputs": [
    {
     "name": "stdout",
     "output_type": "stream",
     "text": [
      "                                                  0  \\\n",
      "0                                           CAR-027   \n",
      "1                    Res CA 047-Ingenieria Sistemas   \n",
      "2        Res CA 085-Calendario Pregrado Cali 2-2020   \n",
      "3                                    Res124-CA-2019   \n",
      "4                                    resolucion 136   \n",
      "5  Resolucion No. 128-2020 actividades bonificables   \n",
      "6                               Resolucion-042-2018   \n",
      "7                        Resolucion093CA-2018(1)(1)   \n",
      "8                           Resolucion093CA-2018(1)   \n",
      "9                               Resolución No. 045    \n",
      "\n",
      "                                                   1  \n",
      "0   Universidad del Valle UNIVERSIDAD DEL VALLE C...  \n",
      "1   Universidad del Valle   UNIVERSIDAD DEL VALLE...  \n",
      "2   Universidad del Valle   UNIVERSIDAD DEL VALLE...  \n",
      "3   Universidad del Valle UNIVERSIDAD DEL VALLE C...  \n",
      "4   Universidad del Valle   UNIVERSIDAD DEL VALLE...  \n",
      "5   Universidad del Valle afios 1945-2020 FACULTA...  \n",
      "6   Universidad del Valle   UNIVERSIDAD DEL VALLE...  \n",
      "7   Universidad del Valle     UNIVERSIDAD DEL VAL...  \n",
      "8   Universidad del Valle     UNIVERSIDAD DEL VAL...  \n",
      "9   Universidad del Valle   UNIVERSIDAD DEL VALLE...  \n"
     ]
    }
   ],
   "source": [
    "data = pd.read_csv('prueba.txt', sep=\",\", header=None)\n",
    "print(data)"
   ]
  },
  {
   "cell_type": "code",
   "execution_count": 8,
   "metadata": {},
   "outputs": [],
   "source": [
    "import re"
   ]
  },
  {
   "cell_type": "code",
   "execution_count": 9,
   "metadata": {},
   "outputs": [],
   "source": [
    "REPLACE_BY_SPACE_RE = re.compile('[/(){}\\[\\]\\|@,;]')\n",
    "BAD_SYMBOLS_RE = re.compile('[^0-9a-z #+_]')\n",
    "STOPWORDS = set(stopwords.words('spanish'))\n",
    "\n",
    "def normalizar_texto(texto):\n",
    "    \"\"\"\n",
    "        texto : string \n",
    "        \n",
    "        retorna: texto modificado\n",
    "    \"\"\"\n",
    "    texto = texto.lower()\n",
    "    #texto = re.sub(REPLACE_BY_SPACE_RE,\" \",texto)\n",
    "    #texto = re.sub(BAD_SYMBOLS_RE,\"\",texto)\n",
    "    aux=\"\"\n",
    "    words = texto.split()\n",
    "    for r in words:\n",
    "      if not r in STOPWORDS:\n",
    "        aux+=r+\" \"\n",
    "    text = aux.rstrip()\n",
    "    return text"
   ]
  },
  {
   "cell_type": "code",
   "execution_count": 11,
   "metadata": {},
   "outputs": [
    {
     "data": {
      "text/html": [
       "<div>\n",
       "<style scoped>\n",
       "    .dataframe tbody tr th:only-of-type {\n",
       "        vertical-align: middle;\n",
       "    }\n",
       "\n",
       "    .dataframe tbody tr th {\n",
       "        vertical-align: top;\n",
       "    }\n",
       "\n",
       "    .dataframe thead th {\n",
       "        text-align: right;\n",
       "    }\n",
       "</style>\n",
       "<table border=\"1\" class=\"dataframe\">\n",
       "  <thead>\n",
       "    <tr style=\"text-align: right;\">\n",
       "      <th></th>\n",
       "      <th>0</th>\n",
       "      <th>1</th>\n",
       "    </tr>\n",
       "  </thead>\n",
       "  <tbody>\n",
       "    <tr>\n",
       "      <th>0</th>\n",
       "      <td>CAR-027</td>\n",
       "      <td>Universidad del Valle UNIVERSIDAD DEL VALLE C...</td>\n",
       "    </tr>\n",
       "    <tr>\n",
       "      <th>1</th>\n",
       "      <td>Res CA 047-Ingenieria Sistemas</td>\n",
       "      <td>Universidad del Valle   UNIVERSIDAD DEL VALLE...</td>\n",
       "    </tr>\n",
       "    <tr>\n",
       "      <th>2</th>\n",
       "      <td>Res CA 085-Calendario Pregrado Cali 2-2020</td>\n",
       "      <td>Universidad del Valle   UNIVERSIDAD DEL VALLE...</td>\n",
       "    </tr>\n",
       "    <tr>\n",
       "      <th>3</th>\n",
       "      <td>Res124-CA-2019</td>\n",
       "      <td>Universidad del Valle UNIVERSIDAD DEL VALLE C...</td>\n",
       "    </tr>\n",
       "    <tr>\n",
       "      <th>4</th>\n",
       "      <td>resolucion 136</td>\n",
       "      <td>Universidad del Valle   UNIVERSIDAD DEL VALLE...</td>\n",
       "    </tr>\n",
       "  </tbody>\n",
       "</table>\n",
       "</div>"
      ],
      "text/plain": [
       "                                            0  \\\n",
       "0                                     CAR-027   \n",
       "1              Res CA 047-Ingenieria Sistemas   \n",
       "2  Res CA 085-Calendario Pregrado Cali 2-2020   \n",
       "3                              Res124-CA-2019   \n",
       "4                              resolucion 136   \n",
       "\n",
       "                                                   1  \n",
       "0   Universidad del Valle UNIVERSIDAD DEL VALLE C...  \n",
       "1   Universidad del Valle   UNIVERSIDAD DEL VALLE...  \n",
       "2   Universidad del Valle   UNIVERSIDAD DEL VALLE...  \n",
       "3   Universidad del Valle UNIVERSIDAD DEL VALLE C...  \n",
       "4   Universidad del Valle   UNIVERSIDAD DEL VALLE...  "
      ]
     },
     "execution_count": 11,
     "metadata": {},
     "output_type": "execute_result"
    }
   ],
   "source": [
    "data.head()"
   ]
  },
  {
   "cell_type": "code",
   "execution_count": 13,
   "metadata": {},
   "outputs": [],
   "source": [
    "texto = data[1].values"
   ]
  },
  {
   "cell_type": "code",
   "execution_count": 14,
   "metadata": {},
   "outputs": [],
   "source": [
    "texto = [normalizar_texto(x) for x in texto]"
   ]
  },
  {
   "cell_type": "code",
   "execution_count": 16,
   "metadata": {},
   "outputs": [
    {
     "data": {
      "text/plain": [
       "['universidad valle universidad valle consejo academico resolucion 027 marzo 8 2001 reforma sistema crditos programas formaci6on pregrado universidad valle deroga resolucin 058 1994 consejo academico universidad valle uso atribuciones legales especial confiere articulo 200 literal c estatuto general considerando consejo superior universidad valle mediante acuerdo 009 2000 establecid nuevo marco principios politica curricular disefio aprobacin ejecucion seguimiento evaluacion programas pregrado desarrollo acuerdo 009 universidad valle propone renovar procesos acadmicos enfoques pedagdgicos conceptos curriculares estructuras funcionamiento gestion curriculo base criterios calidad pertinencia racionalidad flexibilidad pedaggica curricular necesario promover estrategias pedaggicas fortalezcan autonomia estudiante aprender aprender base procesos formacin mediante resolucin 058 1994 consejo acadmico reglamentd sistema crditos acuerdo 009 autoriza consejo acadmico actualizar transformar sistema crditos consonancia nuevo marco politica curricular universidad valle universidad valle resolucion no02701 ca 2 propdsito promover cooperacin acadmica movilidad estudiantil establecer criterios uniformes homologacin actividades experiencias realizadas programas formacin universitaria gobierno nacional travs ministerio educacion establecido sistema crditos requisito estructuracin programa formacion definido parametros generales ser desarrollados universidades resuelve creditos articulo l define crdito unidad medida trabajo acadmico debe realizar estudiante cada actividades formativas establecidas requisitos obtencidn titulo programa pregrado trabajo acadmico medido crdito incluye b c trabajo presencial constituido tiempo dedicado actividad acadmica estudiante interactia docente travs clases magistrales talleres laboratorios seminarios 0 travs medios comunicacin informacion telematicos trabajo independiente expresado tiempo estudiante dedica estudio personal realizar consultas lecturas preparar trabajos talleres elaborar informes profundizar ampliar cuenta propia conocimientos capacitacion diferentes areas tambin prepararse evaluaciones examenes trabajo dirigido estudiante realiza actividades precisas orientadas docente suponen asesoria tutoria interaccion determinada regularidad cursos dirigidos semi desescolarizados trabajo campo practicas profesionales acadmicas articulo 2 propositos sistema crditos siguientes b racionalizar disefio ejecucin diferentes actividades acadmicas constituyen programa formacion consonancia criterios pertinencia calidad eficiencia organizar trabajo esfuerzo acadmico estudiante cada asignatura actividad cada periodo acadmico conjunto proceso formacinuniversidad valle resolucion no02701 ca 3 c fomentar compromiso trabajo autonomo estudiantes proceso formacion d promover utilizacion acceso diferentes tipos experiencias entornos aprendizaje flexibles estimular unidades acadmicas universidad transformaci6n oferta cursos articulando integrando diversas estrategias modalidades pedagogicas f privilegiar calidad pertinencia procesos actividades cantidad extension mismos g facilitar homologacin estudios universitarios movilidad estudiantil articulo 3 actividades formativas programa acadmico acuerdo modalidad presencial semipresencial desescolarizada distancia pueden incluir asignaturas cursos presenciales semipresenciales cursos desescolarizados trabajo dirigido practicas acadmicas practicas profesionales pasantias trabajo campo trabajos grado juicio unidades acadmicas llenen exigencias minimas garantizar cumplimiento propsitos formacion estudiante paragrafo toda actividad formativa reconocida reconocible propositos formacin debe incluir instrumentos precisos asesoria seguimiento evaluacion logros articulo 4 crdito acadmico equivale 48 horas trabajo acadmico estudiante numero total crditos asignatura actividad formativa resulta sumar tiempo trabajo presencial tp tiempo trabajo independiente tiempo trabajo dirigido td realiza estudiante periodo acadmico actividad asignatura dividido 48 horas articulo 5 base periodos acadmicos 18 semanas calendario incluyen 2 semanas examenes evaluacion calculo crditos cada actividad asignatura realizada periodo acadmico estudiante realizara 16 semanas actividades formativasuniversidad valle resolucion no02701 ca 4 desarrollen periodos vacaciones verano pueden hacerse equivalentes actividades periodos regulares base intensificacin tiempo dedicacin semanal paragrafo calculo distribucin tiempo trabajo crditos actividades programas realizados bajo modalidad desescolarizada distancia hara 48 horas dedicacion realizadas periodo minimo 18 semanas maximo 28 semanas articulo 6 determinacion tiempo trabajo presencial tiempo trabajo independiente tiempo trabajo dirigido debe dedicar estudiante cada actividad asignatura compete unidad acadmica responsable disefio ofrecimiento evaluaci6n tiempo entiende tiempo dedicacion necesario estimado estudiante alcance logros formativos propuestos hara explicito programas formato registro asignaturas paragrafo numero crditos programa formacion cada asignatura actividad acadmica conforma unica independiente modalidad programa curso presencial semipresencial desescolarizado acuerdo modalidad varia proporcion horas trabajo directo trabajo dirigido trabajo independiente articulo 7 acuerdo areas formacion disciplinaria profesional tipo procesos implicados mayor menor exigencia interaccin estudiantes docente unidades responsables disefio actividades formacion privilegiaran trabajo independiente dirigido trabajo presencial articulo 8 unidades acadmicas definiran pautas criterios comunes establecer distribucion tiempo trabajo presencial independiente dirigido segun tipo asignatura actividad area formacion disciplina 0 profesion atendiendo recomendaciones propuestas comits programa articulo 9 distribucion tiempo trabajo unidades tendran cuenta siguientes criterios cursos predominantemente tedricos cada hora trabajo presencial debe implicar minimo dos 2 horas trabajo independiente maximo cuatro 4 cursos actividades tedrico practico cada hora trabajo presencial debe implicar menos dos 2 horas trabajo independiente maximo ocho 8 actividades formacin predominantementeuniversidad valle resolucion no02701 ca 5 practicas desarrollo destrezas habilidades cada hora orientacin tedrica puede implicar minimo cuatro horas trabajo independiente maximo ocho paragrafo li cursos 0 actividades dirigidas desescolarizadas cada hora trabajo dirigido debe implicar minimo cuatro 4 horas maximo quince 15 horas trabajo independiente paragrafo 2 facilitar administracion sistema crditos total horas trabajo cada actividad formativa incluida programa formacin deberan medida posible ser multiplo 48 articulo 10 comits directores programa disefiar desarrollar programas formacidn tendran cuenta tiempo trabajo definido exigido unidades acadmicas cada asignatura 0 actividad organizar plan estudios considere forma racional realista tiempo trabajo estudiante dedicacin diferentes actividades curriculares extracurriculares creditos totales programas pregrado articulo 11 programas _ pregrado tendran numero maximo crditos acuerdo duracin semestres programas cuya duracin ocho semestres tendran minimo 120 crditos maximo 140 crditos programas cuya duracion diez semestres tendran minimo 140 crditos maximo 170 crditos programa medicina cirugia tendra maximo 200 crditos paragrafo casos excepcionales podra autorizar numero crditos encima topes maximos establecidos presente resolucin aquellos programas cuyas regulaciones profesionales legales asi establezcan stas debidamente verificadas articulo 12 programas tecnoldgicos tendran minimo 75 crditos maximo 90 crditosuniversidad valle resolucion no02701 ca 6 articulo 13 estudiante regular tiempo completo debera tomar numero crditos programados respectivo programa cada semestre maximo veinte 20 crditos semestre programas desescolarizados determinaran carga minima debera cursar estudiante semestre ningun caso sera inferior 6 crditos articulo 14 disefio programas programacion racionalizara carga crditos semestre buscando distribuya acuerdo pertinencia 0 importancia cada actividad forma equitativa cuidando dejar espacios tiempo trabajo independiente estudiante participacion vida universitaria articulo 15 comits programa podran homologar actividades independientes dirigidas realizadas estudiante bien universidad comunidades 0 empresas 0 instituciones base planes trabajo formas evaluacion precisa actividades asignaturas regulares programa formacion homologacion incluira determinacion dedicacin numero crditos articulo 16 resolucion deroga resolucion 058 1994 emanada consejo acadmico rige partir fecha aprobacion publiquese comuniquese cumplase dada santiago cali salon reuniones consejo facultad salud 8 dias mes marzo afio 2001 presidente oscar rojas renteriauniversidad valle resolucion no02701 ca 7 rector oscar lopez pulecio secretario general']"
      ]
     },
     "execution_count": 16,
     "metadata": {},
     "output_type": "execute_result"
    }
   ],
   "source": [
    "texto[:1]"
   ]
  },
  {
   "cell_type": "code",
   "execution_count": null,
   "metadata": {},
   "outputs": [],
   "source": []
  }
 ],
 "metadata": {
  "kernelspec": {
   "display_name": "Python 3",
   "language": "python",
   "name": "python3"
  },
  "language_info": {
   "codemirror_mode": {
    "name": "ipython",
    "version": 3
   },
   "file_extension": ".py",
   "mimetype": "text/x-python",
   "name": "python",
   "nbconvert_exporter": "python",
   "pygments_lexer": "ipython3",
   "version": "3.7.4"
  }
 },
 "nbformat": 4,
 "nbformat_minor": 4
}
